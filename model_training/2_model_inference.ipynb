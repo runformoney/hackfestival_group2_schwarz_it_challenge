{
 "cells": [
  {
   "cell_type": "code",
   "execution_count": 212,
   "id": "34d7e31b-42f2-428c-932d-b3f8c155e362",
   "metadata": {},
   "outputs": [],
   "source": [
    "import pickle\n",
    "from scipy.sparse import coo_matrix, csr_matrix\n",
    "import numpy as np\n",
    "import pandas as pd\n",
    "import random\n",
    "\n",
    "# Load the saved ALS model from \"../model\" folder\n",
    "def load_model():\n",
    "    with open('../model/als_model.pkl', 'rb') as f:\n",
    "        return pickle.load(f)\n",
    "\n",
    "# Load the interaction matrix, customer_map, and product_map from \"../model\" folder\n",
    "def load_data():\n",
    "    # Load the interaction matrix and convert it to CSR format for fast row slicing\n",
    "    with open('../model/interaction_matrix.pkl', 'rb') as f:\n",
    "        interaction_matrix = pickle.load(f).tocsr()  # Convert to CSR format\n",
    "\n",
    "    with open('../model/customer_map.pkl', 'rb') as f:\n",
    "        customer_map = pickle.load(f)\n",
    "\n",
    "    with open('../model/product_map.pkl', 'rb') as f:\n",
    "        product_map = pickle.load(f)\n",
    "\n",
    "    return interaction_matrix, customer_map, product_map\n",
    "\n",
    "# Function to recommend products for a given customer ID\n",
    "def recommend_products(customer_id, model, interaction_matrix, customer_map, product_map, num_recommendations=10):\n",
    "    # Reverse customer_map to look up index by customer_id\n",
    "    customer_index_map = {v: k for k, v in customer_map.items()}\n",
    "    customer_index = customer_index_map.get(customer_id)\n",
    "    print('customer_index', customer_index)\n",
    "    \n",
    "    if customer_index is None:\n",
    "        return \"Customer not found\"\n",
    "\n",
    "    # Extract the user-specific interaction history from the matrix\n",
    "    user_interaction = interaction_matrix[customer_index]\n",
    "\n",
    "    # Get recommendations using the ALS model\n",
    "    recommendations = model.recommend(customer_index, user_interaction, N=num_recommendations)\n",
    "    print(recommendations)\n",
    "\n",
    "    # Filter out invalid recommendations and map back the recommended product indices to product IDs\n",
    "    recommended_product_ids = []\n",
    "    for product_idx in recommendations[0]:\n",
    "        # Ensure the product index is valid and exists in product_map\n",
    "        if product_idx in product_map:\n",
    "            recommended_product_ids.append(product_map[product_idx])\n",
    "        else:\n",
    "            print(f\"Invalid product index: {product_idx}\")\n",
    "\n",
    "    return recommended_product_ids if recommended_product_ids else \"No valid recommendations\"\n",
    "\n",
    "# Example usage\n",
    "als_model = load_model()\n",
    "interaction_matrix, customer_map, product_map = load_data()\n"
    "interaction_matrix, customer_map, product_map = load_data()\n",
    "\n",
    "# Assuming you have a valid customer_index (you can get this from customer_map based on the UUID)\n",
    "customer_index = 0  # Example index, replace with actual customer index\n",
    "recommended_products = recommend_products(customer_index, als_model, interaction_matrix, product_map)\n",
    "print(f\"Recommended products: {recommended_products}\")\n"
   ]
  },
  {
   "cell_type": "code",
   "execution_count": 50,
   "id": "fb420112-73af-425f-bca3-6e93245b5a06",
   "metadata": {},
   "outputs": [
    {
     "name": "stdout",
     "output_type": "stream",
     "text": [
      "customer_index 20\n"
     ]
    },
    {
     "data": {
      "text/plain": [
       "[6384927,\n",
       " 2365987,\n",
       " 7582916,\n",
       " 7294837,\n",
       " 5728369,\n",
       " 8376291,\n",
       " 6482915,\n",
       " 7263845,\n",
       " 2635841,\n",
       " 5987321,\n",
       " 5678901,\n",
       " 7845123,\n",
       " 1629485,\n",
       " 2837496,\n",
       " 5319827,\n",
       " 6429385,\n",
       " 8592736,\n",
       " 3748211,\n",
       " 2839174,\n",
       " 8471926,\n",
       " 1492837,\n",
       " 7129385,\n",
       " 1827395,\n",
       " 2958174,\n",
       " 5896321,\n",
       " 1728396,\n",
       " 6541295,\n",
       " 7175923,\n",
       " 8769321,\n",
       " 9482736]"
      ]
     },
     "execution_count": 50,
     "metadata": {},
     "output_type": "execute_result"
    }
   ],
   "source": [
    "recommend_products(20, als_model, interaction_matrix, product_map, 30)"
   ]
  },
  {
   "cell_type": "code",
   "execution_count": 36,
   "id": "1a60faf1-39ff-45c7-97ee-94c93091bf08",
   "metadata": {},
   "outputs": [
    {
     "data": {
      "text/plain": [
       "2"
      ]
     },
     "execution_count": 36,
     "metadata": {},
     "output_type": "execute_result"
    }
   ],
   "source": [
    "list(customer_map.values())[1]"
   ]
  },
  {
   "cell_type": "code",
   "execution_count": 213,
   "id": "f7e3d23b-9638-41a7-8953-16fa326d9446",
   "metadata": {},
   "outputs": [],
   "source": [
    "customers = pd.read_csv('../data/transactions.csv').customer_id.unique().tolist()"
   ]
  }
 ],
 "metadata": {
  "kernelspec": {
   "display_name": "Python 3 (ipykernel)",
   "language": "python",
   "name": "python3"
  },
  "language_info": {
   "codemirror_mode": {
    "name": "ipython",
    "version": 3
   },
   "file_extension": ".py",
   "mimetype": "text/x-python",
   "name": "python",
   "nbconvert_exporter": "python",
   "pygments_lexer": "ipython3",
   "version": "3.11.0"
  }
 },
 "nbformat": 4,
 "nbformat_minor": 5
}
