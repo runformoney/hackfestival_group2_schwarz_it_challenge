{
 "cells": [
  {
   "cell_type": "code",
   "execution_count": 27,
   "id": "34d7e31b-42f2-428c-932d-b3f8c155e362",
   "metadata": {},
   "outputs": [
    {
     "name": "stdout",
     "output_type": "stream",
     "text": [
      "customer_index 657\n",
      "(array([4, 3, 2, 1, 0, 0, 0, 0, 0, 0], dtype=int32), array([-3.4028235e+38, -3.4028235e+38, -3.4028235e+38, -3.4028235e+38,\n",
      "       -3.4028235e+38,  0.0000000e+00,  0.0000000e+00,  0.0000000e+00,\n",
      "        0.0000000e+00,  0.0000000e+00], dtype=float32))\n",
      "[9126483, 8376291, 5728364, 4537281, 1928374, 1928374, 1928374, 1928374, 1928374, 1928374]\n"
     ]
    }
   ],
   "source": [
    "import pickle\n",
    "from scipy.sparse import coo_matrix, csr_matrix\n",
    "import numpy as np\n",
    "\n",
    "# Load the saved ALS model from \"../model\" folder\n",
    "def load_model():\n",
    "    with open('../model/als_model.pkl', 'rb') as f:\n",
    "        return pickle.load(f)\n",
    "\n",
    "# Load the interaction matrix, customer_map, and product_map from \"../model\" folder\n",
    "def load_data():\n",
    "    # Load the interaction matrix and convert it to CSR format for fast row slicing\n",
    "    with open('../model/interaction_matrix.pkl', 'rb') as f:\n",
    "        interaction_matrix = pickle.load(f).tocsr()  # Convert to CSR format\n",
    "\n",
    "    with open('../model/customer_map.pkl', 'rb') as f:\n",
    "        customer_map = pickle.load(f)\n",
    "\n",
    "    with open('../model/product_map.pkl', 'rb') as f:\n",
    "        product_map = pickle.load(f)\n",
    "\n",
    "    return interaction_matrix, customer_map, product_map\n",
    "\n",
    "# Function to recommend products for a given customer ID\n",
    "def recommend_products(customer_id, model, interaction_matrix, customer_map, product_map, num_recommendations=10):\n",
    "    # Reverse customer_map to look up index by customer_id\n",
    "    customer_index_map = {v: k for k, v in customer_map.items()}\n",
    "    customer_index = customer_index_map.get(customer_id)\n",
    "    print('customer_index', customer_index)\n",
    "    \n",
    "    if customer_index is None:\n",
    "        return \"Customer not found\"\n",
    "\n",
    "    # Extract the user-specific interaction history from the matrix\n",
    "    user_interaction = interaction_matrix[customer_index]\n",
    "\n",
    "    # Get recommendations using the ALS model\n",
    "    recommendations = model.recommend(customer_index, user_interaction, N=num_recommendations)\n",
    "    print(recommendations)\n",
    "\n",
    "    # Filter out invalid recommendations and map back the recommended product indices to product IDs\n",
    "    recommended_product_ids = []\n",
    "    for product_idx in recommendations[0]:\n",
    "        # Ensure the product index is valid and exists in product_map\n",
    "        if product_idx in product_map:\n",
    "            recommended_product_ids.append(product_map[product_idx])\n",
    "        else:\n",
    "            print(f\"Invalid product index: {product_idx}\")\n",
    "\n",
    "    return recommended_product_ids if recommended_product_ids else \"No valid recommendations\"\n",
    "\n",
    "# Example usage\n",
    "als_model = load_model()\n",
    "interaction_matrix, customer_map, product_map = load_data()\n",
    "\n",
    "# Test with a sample customer_id\n",
    "print(recommend_products('a324577f-5c5f-4a48-bdd2-a045b0627c42', als_model, interaction_matrix, customer_map, product_map))\n"
   ]
  },
  {
   "cell_type": "code",
   "execution_count": 28,
   "id": "1f03eb2c-e191-42f1-b6d1-1dfdc7050320",
   "metadata": {},
   "outputs": [
    {
     "name": "stdout",
     "output_type": "stream",
     "text": [
      "customer_index 862\n",
      "(array([4, 3, 2, 1, 0, 0, 0, 0, 0, 0], dtype=int32), array([-3.4028235e+38, -3.4028235e+38, -3.4028235e+38, -3.4028235e+38,\n",
      "       -3.4028235e+38,  0.0000000e+00,  0.0000000e+00,  0.0000000e+00,\n",
      "        0.0000000e+00,  0.0000000e+00], dtype=float32))\n",
      "[9126483, 8376291, 5728364, 4537281, 1928374, 1928374, 1928374, 1928374, 1928374, 1928374]\n"
     ]
    }
   ],
   "source": [
    "print(recommend_products('d96da311-9918-4200-9d94-cc4a285e618d', als_model, interaction_matrix, customer_map, product_map))"
   ]
  },
  {
   "cell_type": "code",
   "execution_count": null,
   "id": "74cb7f95-79a4-4471-a698-320a46eafb22",
   "metadata": {},
   "outputs": [],
   "source": []
  }
 ],
 "metadata": {
  "kernelspec": {
   "display_name": "Python 3 (ipykernel)",
   "language": "python",
   "name": "python3"
  },
  "language_info": {
   "codemirror_mode": {
    "name": "ipython",
    "version": 3
   },
   "file_extension": ".py",
   "mimetype": "text/x-python",
   "name": "python",
   "nbconvert_exporter": "python",
   "pygments_lexer": "ipython3",
   "version": "3.11.0"
  }
 },
 "nbformat": 4,
 "nbformat_minor": 5
}
