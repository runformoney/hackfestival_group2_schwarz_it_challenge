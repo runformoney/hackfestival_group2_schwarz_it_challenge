{
 "cells": [
  {
   "cell_type": "code",
   "execution_count": 4,
   "id": "f4b22ba3-958f-483e-9a67-a34d515fa4a1",
   "metadata": {},
   "outputs": [
    {
     "name": "stdout",
     "output_type": "stream",
     "text": [
      "customer_index 90\n",
      "Recommended products: [1098765, 9182739, 9172536, 9632587, 4917286, 9273851, 1736482, 1928374, 2846391, 5362819]\n"
     ]
    }
   ],
   "source": [
    "import pickle\n",
    "from scipy.sparse import csr_matrix\n",
    "import pandas as pd\n",
    "\n",
    "# Load the saved ALS model from \"../model\" folder\n",
    "def load_model():\n",
    "    with open('../model/als_model.pkl', 'rb') as f:\n",
    "        return pickle.load(f)\n",
    "\n",
    "# Load the interaction matrix, customer_map, and product_map from \"../model\" folder\n",
    "def load_data():\n",
    "    # Load the interaction matrix and convert it to CSR format for fast row slicing\n",
    "    with open('../model/interaction_matrix.pkl', 'rb') as f:\n",
    "        interaction_matrix = pickle.load(f).tocsr()  # Convert to CSR format\n",
    "\n",
    "    with open('../model/customer_map.pkl', 'rb') as f:\n",
    "        customer_map = pickle.load(f)\n",
    "\n",
    "    with open('../model/product_map.pkl', 'rb') as f:\n",
    "        product_map = pickle.load(f)\n",
    "\n",
    "    return interaction_matrix, customer_map, product_map\n",
    "\n",
    "# Function to recommend products for a given customer ID\n",
    "def recommend_products(customer_index, model, interaction_matrix, product_map, num_recommendations=10):\n",
    "    print('customer_index', customer_index)\n",
    "    \n",
    "    if customer_index is None:\n",
    "        return \"Customer not found\"\n",
    "\n",
    "    user_interaction = interaction_matrix[0]\n",
    "\n",
    "    # Get recommendations using the ALS model\n",
    "    recommendations = model.recommend(customer_index, user_interaction, N=num_recommendations)\n",
    "    \n",
    "    # Filter out invalid recommendations and map back the recommended product indices to product IDs\n",
    "    recommended_product_ids = []\n",
    "    for product_idx in recommendations[0]:\n",
    "        # Ensure the product index is valid and exists in product_map\n",
    "        if product_idx in product_map:\n",
    "            recommended_product_ids.append(product_map[product_idx])\n",
    "        else:\n",
    "            print(f\"Invalid product index: {product_idx}\")\n",
    "\n",
    "    return recommended_product_ids if recommended_product_ids else \"No valid recommendations\"\n",
    "\n",
    "# Example usage\n",
    "als_model = load_model()\n",
    "interaction_matrix, customer_map, product_map = load_data()\n",
    "\n",
    "# Assuming you have a valid customer_index (you can get this from customer_map based on the UUID)\n",
    "customer_index = 90  # Example index, replace with actual customer index\n",
    "recommended_products = recommend_products(customer_index, als_model, interaction_matrix, product_map)\n",
    "print(f\"Recommended products: {recommended_products}\")"
   ]
  },
  {
   "cell_type": "code",
   "execution_count": null,
   "id": "5e0a5c2d-33d3-451d-9eac-c87ac9ce1e87",
   "metadata": {},
   "outputs": [],
   "source": []
  }
 ],
 "metadata": {
  "kernelspec": {
   "display_name": "Python 3 (ipykernel)",
   "language": "python",
   "name": "python3"
  },
  "language_info": {
   "codemirror_mode": {
    "name": "ipython",
    "version": 3
   },
   "file_extension": ".py",
   "mimetype": "text/x-python",
   "name": "python",
   "nbconvert_exporter": "python",
   "pygments_lexer": "ipython3",
   "version": "3.11.0"
  }
 },
 "nbformat": 4,
 "nbformat_minor": 5
}
