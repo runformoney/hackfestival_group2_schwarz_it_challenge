{
 "cells": [
  {
   "cell_type": "code",
   "execution_count": 52,
   "id": "a345245c-ebf3-4449-b6e5-ad8210e66691",
   "metadata": {},
   "outputs": [
    {
     "data": {
      "application/vnd.jupyter.widget-view+json": {
       "model_id": "664f8d1b2e264d95befb17eeca43593a",
       "version_major": 2,
       "version_minor": 0
      },
      "text/plain": [
       "  0%|          | 0/30 [00:00<?, ?it/s]"
      ]
     },
     "metadata": {},
     "output_type": "display_data"
    }
   ],
   "source": [
    "import pandas as pd\n",
    "from scipy.sparse import coo_matrix\n",
    "import implicit\n",
    "import pickle\n",
    "import os\n",
    "\n",
    "MODEL_PATH = '../model'\n",
    "os.makedirs(MODEL_PATH, exist_ok=True)\n",
    "\n",
    "# Load data\n",
    "data = pd.read_csv('../data/transactions.csv')\n",
    "\n",
    "# Prepare interaction matrix (Customer-Product matrix) with counts of purchases\n",
    "# Count the number of purchases for each customer-product pair\n",
    "interaction_data = data.groupby(['customer_id', 'product_id']).size().reset_index(name='count')\n",
    "\n",
    "# Convert customer_id and product_id to categorical codes\n",
    "customer_ids = interaction_data['customer_id'].astype(\"category\")\n",
    "product_ids = interaction_data['product_id'].astype(\"category\")\n",
    "customer_codes = customer_ids.cat.codes\n",
    "product_codes = product_ids.cat.codes\n",
    "\n",
    "# Create interaction matrix\n",
    "interaction_matrix = coo_matrix((interaction_data['count'], (customer_codes, product_codes)))\n",
    "\n",
    "# Create mappings from original customer_id and product_id to their respective codes\n",
    "customer_map = dict(enumerate(customer_ids.cat.categories))\n",
    "product_map = dict(enumerate(product_ids.cat.categories))\n",
    "\n",
    "# Save the interaction matrix\n",
    "with open(os.path.join(MODEL_PATH, 'interaction_matrix.pkl'), 'wb') as f:\n",
    "    pickle.dump(interaction_matrix, f)\n",
    "\n",
    "# Save the customer map (as a dictionary)\n",
    "with open(os.path.join(MODEL_PATH, 'customer_map.pkl'), 'wb') as f:\n",
    "    pickle.dump(customer_map, f)\n",
    "\n",
    "# Save the product map (as a dictionary)\n",
    "with open(os.path.join(MODEL_PATH, 'product_map.pkl'), 'wb') as f:\n",
    "    pickle.dump(product_map, f)\n",
    "\n",
    "# Initialize and train ALS model\n",
    "als_model = implicit.als.AlternatingLeastSquares(factors=20, regularization=0.1, iterations=30)\n",
    "interaction_matrix_csr = interaction_matrix.tocsr()\n",
    "als_model.fit(interaction_matrix_csr)\n",
    "\n",
    "# Save the ALS model to a binary file\n",
    "with open(os.path.join(MODEL_PATH, 'als_model.pkl'), 'wb') as f:\n",
    "    pickle.dump(als_model, f)\n"
   ]
  },
  {
   "cell_type": "code",
   "execution_count": null,
   "id": "0a23db61-f6d0-4904-9374-134a572034e4",
   "metadata": {},
   "outputs": [],
   "source": []
  }
 ],
 "metadata": {
  "kernelspec": {
   "display_name": "Python 3 (ipykernel)",
   "language": "python",
   "name": "python3"
  },
  "language_info": {
   "codemirror_mode": {
    "name": "ipython",
    "version": 3
   },
   "file_extension": ".py",
   "mimetype": "text/x-python",
   "name": "python",
   "nbconvert_exporter": "python",
   "pygments_lexer": "ipython3",
   "version": "3.11.0"
  }
 },
 "nbformat": 4,
 "nbformat_minor": 5
}
